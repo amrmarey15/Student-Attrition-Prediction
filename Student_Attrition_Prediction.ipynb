{
  "nbformat": 4,
  "nbformat_minor": 0,
  "metadata": {
    "colab": {
      "name": "Student_Attrition_Prediction.ipynb",
      "provenance": [],
      "collapsed_sections": []
    },
    "kernelspec": {
      "name": "python3",
      "display_name": "Python 3"
    },
    "language_info": {
      "name": "python"
    }
  },
  "cells": [
    {
      "cell_type": "markdown",
      "metadata": {
        "id": "h5HyZ6QPy1rP"
      },
      "source": [
        "# Importing/Reading Dataset"
      ]
    },
    {
      "cell_type": "code",
      "metadata": {
        "id": "yVy9MYQQtd02"
      },
      "source": [
        "import pandas as pd\n",
        "import numpy as np\n",
        "from sklearn import preprocessing\n",
        "from sklearn.model_selection import train_test_split\n",
        "from sklearn.preprocessing import LabelEncoder\n",
        "from sklearn.preprocessing import StandardScaler\n",
        "from sklearn.feature_selection import SelectPercentile   , chi2 \n",
        "from sklearn.preprocessing import PolynomialFeatures\n",
        "from sklearn.model_selection import KFold\n",
        "import matplotlib.pyplot as plt\n",
        "from sklearn.linear_model import LinearRegression\n",
        "from sklearn.metrics import mean_squared_error\n",
        "from sklearn.metrics import mean_absolute_error\n",
        "from sklearn.metrics import median_absolute_error\n",
        "from sklearn.preprocessing import OneHotEncoder\n",
        "from sklearn.impute import SimpleImputer"
      ],
      "execution_count": null,
      "outputs": []
    },
    {
      "cell_type": "code",
      "metadata": {
        "id": "hmkJIzXEvNJm"
      },
      "source": [
        "file = \"Student.xlsx\"\n",
        "#dataset = pd.read_excel(file)\n",
        "missing_values = [\"?\"]\n",
        "dataset = pd.read_excel(file, na_values=missing_values)\n",
        "\n",
        "dataset = dataset.iloc[:,1:] #Student ID is defintely not relevant\n",
        "y=dataset['RETURNED_2ND_YR'] \n",
        "dataset.drop('RETURNED_2ND_YR', inplace=True, axis=1)\n",
        "X = dataset "
      ],
      "execution_count": null,
      "outputs": []
    },
    {
      "cell_type": "markdown",
      "metadata": {
        "id": "dxC5ErU3EfsE"
      },
      "source": [
        "# PreProcessing\n",
        "\n"
      ]
    },
    {
      "cell_type": "markdown",
      "metadata": {
        "id": "0wH62RH-E25T"
      },
      "source": [
        "## Label Encoding"
      ]
    },
    {
      "cell_type": "code",
      "metadata": {
        "id": "Vf7rQybnyx97"
      },
      "source": [
        "from pandas.api.types import is_numeric_dtype\n",
        "from sklearn.preprocessing import StandardScaler, LabelEncoder\n",
        "X_col=list(X.columns)\n",
        "\n",
        "\n",
        "for i in range(len(X_col)):\n",
        "  if is_numeric_dtype(X[X_col[i]]) == False:\n",
        "    X.iloc[:, i] = X.iloc[:, i].fillna('NaN')\n",
        "    X[X_col[i]] = LabelEncoder().fit_transform(X[X_col[i]])\n",
        "    \n"
      ],
      "execution_count": null,
      "outputs": []
    },
    {
      "cell_type": "markdown",
      "metadata": {
        "id": "Hz7SrvO9XGem"
      },
      "source": [
        "## Imputing/Splitting/Scaling Data"
      ]
    },
    {
      "cell_type": "code",
      "metadata": {
        "id": "I-GaPaNpE9mL"
      },
      "source": [
        "ImputedModule = SimpleImputer(missing_values = np.nan, strategy ='most_frequent')\n",
        "ImputedX = ImputedModule.fit(X)\n",
        "X = ImputedX.transform(X)\n",
        "X_train, X_test, y_train, y_test = train_test_split(X, y, test_size = 0.2, random_state = 44)\n",
        "from sklearn.preprocessing import StandardScaler\n",
        "#sc = StandardScaler()\n",
        "#X_train = sc.fit_transform(X_train)\n",
        "#X_test = sc.transform(X_test)\n",
        "from sklearn.preprocessing import MinMaxScaler\n",
        "scaler = MinMaxScaler()\n",
        "X_train = scaler.fit_transform(X_train)\n",
        "X_test = scaler.fit_transform(X_test)"
      ],
      "execution_count": null,
      "outputs": []
    },
    {
      "cell_type": "markdown",
      "metadata": {
        "id": "KdmPFr5HbLkg"
      },
      "source": [
        "# Algorithms"
      ]
    },
    {
      "cell_type": "markdown",
      "metadata": {
        "id": "V-KoxBulbUic"
      },
      "source": [
        "## Logistic Regression\n",
        "Bad Results  always given here."
      ]
    },
    {
      "cell_type": "code",
      "metadata": {
        "colab": {
          "base_uri": "https://localhost:8080/"
        },
        "id": "kHVZb5ICXQNd",
        "outputId": "30354647-c0de-46cb-cd7d-0837ccbe063f"
      },
      "source": [
        "from sklearn.linear_model import LogisticRegression\n",
        "from sklearn.model_selection import StratifiedKFold\n",
        "from sklearn.metrics import accuracy_score , confusion_matrix\n",
        "logreg = LogisticRegression(class_weight = 'balanced')\n",
        "logreg.fit(X_train , y_train)\n",
        "result= logreg.predict(X_test)\n",
        "print('Logistic Regression accuracy score is',accuracy_score(y_test , result))\n",
        " \n",
        "conf = confusion_matrix(y_test , result)\n",
        "print('confusion matrix \\n',  conf)\n"
      ],
      "execution_count": null,
      "outputs": [
        {
          "output_type": "stream",
          "text": [
            "Logistic Regression accuracy score is 0.7735294117647059\n",
            "confusion matrix \n",
            " [[ 64  80]\n",
            " [ 74 462]]\n"
          ],
          "name": "stdout"
        }
      ]
    },
    {
      "cell_type": "markdown",
      "metadata": {
        "id": "erQF5F_Pc35u"
      },
      "source": [
        "## Support Vector Classifier\n",
        "Results are somewhat decent."
      ]
    },
    {
      "cell_type": "code",
      "metadata": {
        "id": "M4OfNhQyvvHm",
        "colab": {
          "base_uri": "https://localhost:8080/"
        },
        "outputId": "5c70ec6e-3be8-4b5e-bd7f-1c5c8fb21afe"
      },
      "source": [
        "from sklearn import svm, datasets\n",
        "from sklearn.model_selection import GridSearchCV\n",
        "parameters = {'kernel':('poly', 'rbf'), 'C':[0.5, 0.6, 0.4]}\n",
        "svc = svm.SVC(gamma=\"auto\")\n",
        "clf = GridSearchCV(svc, parameters, cv=6)\n",
        "clf.fit(X_train, y_train)\n",
        "\n",
        "\n",
        "\n",
        "#Calculating Details\n",
        "print('SVCModel Train Score is : ' , clf.score(X_train, y_train))\n",
        "print('SVCModel Test Score is : ' , clf.score(X_test, y_test))\n",
        "print('----------------------------------------------------')\n",
        "y_pred = clf.predict(X_test)\n",
        "\n",
        "#----------------------------------------------------\n",
        "#Calculating Confusion Matrix\n",
        "CM = confusion_matrix(y_test, y_pred)\n",
        "print('Confusion Matrix is : \\n', CM)\n",
        "\n",
        "\n",
        "\n"
      ],
      "execution_count": null,
      "outputs": [
        {
          "output_type": "stream",
          "text": [
            "SVCModel Train Score is :  0.7871323529411764\n",
            "SVCModel Test Score is :  0.788235294117647\n",
            "----------------------------------------------------\n",
            "Confusion Matrix is : \n",
            " [[  0 144]\n",
            " [  0 536]]\n"
          ],
          "name": "stdout"
        }
      ]
    },
    {
      "cell_type": "markdown",
      "metadata": {
        "id": "lZ7Wg0bDq7Ji"
      },
      "source": [
        "## K-Nearest-Neigbors Classifier"
      ]
    },
    {
      "cell_type": "code",
      "metadata": {
        "colab": {
          "base_uri": "https://localhost:8080/"
        },
        "id": "xJJWKh4UtXoe",
        "outputId": "50cb24a6-bdad-46b5-dbb0-6c802782fdbc"
      },
      "source": [
        "from sklearn.neighbors import KNeighborsClassifier\n",
        "#KNNClassifierModel = KNeighborsClassifier(n_neighbors= 3,weights ='distance', # it can be distance\n",
        "                                          #algorithm='auto') # it can be ball_tree, kd_tree,brute\n",
        "#KNNClassifierModel.fit(X_train, y_train)\n",
        "\n",
        "\n",
        "\n",
        "\n",
        "parameters = {'n_neighbors':[3, 4, 5], 'weights':('distance', 'uniform'), 'algorithm':('auto', 'ball_tree', 'kd_tree', 'brute')}\n",
        "KNNClassifierModel = KNeighborsClassifier()\n",
        "clf = GridSearchCV(KNNClassifierModel, parameters, cv=5)\n",
        "clf.fit(X_train, y_train)\n",
        "\n",
        "\n",
        "\n",
        "\n",
        "#Calculating Details\n",
        "print('KNNClassifierModel Train Score is : ' , clf.score(X_train, y_train))\n",
        "print('KNNClassifierModel Test Score is : ' , clf.score(X_test, y_test))\n",
        "print('----------------------------------------------------')\n",
        "y_pred = clf.predict(X_test)\n",
        "\n",
        "#----------------------------------------------------\n",
        "#Calculating Confusion Matrix\n",
        "CM = confusion_matrix(y_test, y_pred)\n",
        "print('Confusion Matrix is : \\n', CM)"
      ],
      "execution_count": null,
      "outputs": [
        {
          "output_type": "stream",
          "text": [
            "KNNClassifierModel Train Score is :  1.0\n",
            "KNNClassifierModel Test Score is :  0.8147058823529412\n",
            "----------------------------------------------------\n",
            "Confusion Matrix is : \n",
            " [[ 38 106]\n",
            " [ 20 516]]\n"
          ],
          "name": "stdout"
        }
      ]
    },
    {
      "cell_type": "markdown",
      "metadata": {
        "id": "zeO0BR1-v2cm"
      },
      "source": [
        "## Naive Bayes"
      ]
    },
    {
      "cell_type": "markdown",
      "metadata": {
        "id": "1zKLg-68dGnT"
      },
      "source": [
        "### Gaussian"
      ]
    },
    {
      "cell_type": "code",
      "metadata": {
        "colab": {
          "base_uri": "https://localhost:8080/"
        },
        "id": "M9FdHRgwv4m1",
        "outputId": "86636877-328b-4f78-fb0c-78a7207f938a"
      },
      "source": [
        "from sklearn.naive_bayes import GaussianNB\n",
        "\n",
        "clf = GaussianNB()\n",
        "clf.fit(X_train, y_train)\n",
        "#Calculating Details\n",
        "print('GaussianNB Train Score is : ' , clf.score(X_train, y_train))\n",
        "print('GaussianNB Test Score is : ' , clf.score(X_test, y_test))\n",
        "print('----------------------------------------------------')\n",
        "y_pred = clf.predict(X_test)\n",
        "#----------------------------------------------------\n",
        "#Calculating Confusion Matrix\n",
        "CM = confusion_matrix(y_test, y_pred)\n",
        "print('Confusion Matrix is : \\n', CM)"
      ],
      "execution_count": null,
      "outputs": [
        {
          "output_type": "stream",
          "text": [
            "GaussianNB Train Score is :  0.7838235294117647\n",
            "GaussianNB Test Score is :  0.21176470588235294\n",
            "----------------------------------------------------\n",
            "Confusion Matrix is : \n",
            " [[144   0]\n",
            " [536   0]]\n"
          ],
          "name": "stdout"
        }
      ]
    },
    {
      "cell_type": "markdown",
      "metadata": {
        "id": "wqvmqsyAdL8q"
      },
      "source": [
        "## Multinomial"
      ]
    },
    {
      "cell_type": "code",
      "metadata": {
        "colab": {
          "base_uri": "https://localhost:8080/"
        },
        "id": "Au8qYgSmdOKy",
        "outputId": "2b68b8ec-daf9-4b93-9ad5-6819e00bb6c3"
      },
      "source": [
        "\n",
        "from sklearn.naive_bayes import MultinomialNB\n",
        "\n",
        "MultinomialNBModel = MultinomialNB(alpha=1.0)\n",
        "MultinomialNBModel.fit(X_train, y_train)\n",
        "\n",
        "#Calculating Details\n",
        "print('MultinomialNBModel Train Score is : ' , MultinomialNBModel.score(X_train, y_train))\n",
        "print('MultinomialNBModel Test Score is : ' , MultinomialNBModel.score(X_test, y_test))\n",
        "print('----------------------------------------------------')\n",
        "\n",
        "#Calculating Prediction\n",
        "y_pred = MultinomialNBModel.predict(X_test)\n",
        "y_pred_prob = MultinomialNBModel.predict_proba(X_test)\n",
        "#Calculating Confusion Matrix\n",
        "CM = confusion_matrix(y_test, y_pred)\n",
        "print('Confusion Matrix is : \\n', CM)"
      ],
      "execution_count": null,
      "outputs": [
        {
          "output_type": "stream",
          "text": [
            "MultinomialNBModel Train Score is :  0.7904411764705882\n",
            "MultinomialNBModel Test Score is :  0.7867647058823529\n",
            "----------------------------------------------------\n",
            "Confusion Matrix is : \n",
            " [[  0 144]\n",
            " [  1 535]]\n"
          ],
          "name": "stdout"
        }
      ]
    },
    {
      "cell_type": "markdown",
      "metadata": {
        "id": "VY5axZJAfxdz"
      },
      "source": [
        "### Complacent NB"
      ]
    },
    {
      "cell_type": "code",
      "metadata": {
        "colab": {
          "base_uri": "https://localhost:8080/"
        },
        "id": "9Nfu6QtLf-1D",
        "outputId": "b81eb38a-fdf3-4ffc-bf1c-4ceebf604cbd"
      },
      "source": [
        "from sklearn.naive_bayes import ComplementNB\n",
        ">>> clf = ComplementNB()\n",
        ">>> clf.fit(X_train, y_train)\n",
        "print('ComplementNB Train Score is : ' , clf.score(X_train, y_train))\n",
        "print('ComplementNB Test Score is : ' , clf.score(X_test, y_test))\n",
        "print('----------------------------------------------------')\n",
        "y_pred = clf.predict(X_test)\n",
        "#----------------------------------------------------\n",
        "#Calculating Confusion Matrix\n",
        "CM = confusion_matrix(y_test, y_pred)\n",
        "print('Confusion Matrix is : \\n', CM)"
      ],
      "execution_count": null,
      "outputs": [
        {
          "output_type": "stream",
          "text": [
            "ComplementNB Train Score is :  0.7040441176470589\n",
            "ComplementNB Test Score is :  0.7102941176470589\n",
            "----------------------------------------------------\n",
            "Confusion Matrix is : \n",
            " [[ 78  66]\n",
            " [131 405]]\n"
          ],
          "name": "stdout"
        }
      ]
    },
    {
      "cell_type": "markdown",
      "metadata": {
        "id": "S4LgSftag_o0"
      },
      "source": [
        "### Bernouli"
      ]
    },
    {
      "cell_type": "code",
      "metadata": {
        "colab": {
          "base_uri": "https://localhost:8080/"
        },
        "id": "E6t-83FhhJxT",
        "outputId": "f5d80dc6-e053-467f-86a3-231333b8454b"
      },
      "source": [
        "from sklearn.naive_bayes import BernoulliNB\n",
        "clf = BernoulliNB()\n",
        "clf.fit(X_train, y_train)\n",
        "print('BernoulliNB Train Score is : ' , clf.score(X_train, y_train))\n",
        "print('BernoulliNB Test Score is : ' , clf.score(X_test, y_test))\n",
        "print('----------------------------------------------------')\n",
        "y_pred = clf.predict(X_test)\n",
        "#----------------------------------------------------\n",
        "#Calculating Confusion Matrix\n",
        "CM = confusion_matrix(y_test, y_pred)\n",
        "print('Confusion Matrix is : \\n', CM)"
      ],
      "execution_count": null,
      "outputs": [
        {
          "output_type": "stream",
          "text": [
            "BernoulliNB Train Score is :  0.7926470588235294\n",
            "BernoulliNB Test Score is :  0.7676470588235295\n",
            "----------------------------------------------------\n",
            "Confusion Matrix is : \n",
            " [[  5 139]\n",
            " [ 19 517]]\n"
          ],
          "name": "stdout"
        }
      ]
    },
    {
      "cell_type": "markdown",
      "metadata": {
        "id": "lerbpe5Lhbij"
      },
      "source": [
        "### Categorical Naive Bayes"
      ]
    },
    {
      "cell_type": "code",
      "metadata": {
        "colab": {
          "base_uri": "https://localhost:8080/",
          "height": 403
        },
        "id": "hA5yiTJfhcib",
        "outputId": "66320f09-f048-49c4-c0b3-20088c3ca911"
      },
      "source": [
        "\"\"\"\n",
        "\n",
        "from sklearn.naive_bayes import CategoricalNB\n",
        "clf = CategoricalNB()\n",
        "clf.fit(X_train, y_train)\n",
        "print('CategoricalNB Train Score is : ' , clf.score(X_train, y_train))\n",
        "#print('CategoricalNB Test Score is : ' , clf.score(X_test, y_test))\n",
        "print('----------------------------------------------------')\n",
        "y_pred = clf.predict(X_test)\n",
        "#----------------------------------------------------\n",
        "#Calculating Confusion Matrix\n",
        "CM = confusion_matrix(y_test, y_pred)\n",
        "print('Confusion Matrix is : \\n', CM)\n",
        "\"\"\"\n"
      ],
      "execution_count": null,
      "outputs": [
        {
          "output_type": "stream",
          "text": [
            "CategoricalNB Train Score is :  0.7933823529411764\n",
            "----------------------------------------------------\n"
          ],
          "name": "stdout"
        },
        {
          "output_type": "error",
          "ename": "IndexError",
          "evalue": "ignored",
          "traceback": [
            "\u001b[0;31m---------------------------------------------------------------------------\u001b[0m",
            "\u001b[0;31mIndexError\u001b[0m                                Traceback (most recent call last)",
            "\u001b[0;32m<ipython-input-85-d679ba92d4b2>\u001b[0m in \u001b[0;36m<module>\u001b[0;34m()\u001b[0m\n\u001b[1;32m      5\u001b[0m \u001b[0;31m#print('CategoricalNB Test Score is : ' , clf.score(X_test, y_test))\u001b[0m\u001b[0;34m\u001b[0m\u001b[0;34m\u001b[0m\u001b[0;34m\u001b[0m\u001b[0m\n\u001b[1;32m      6\u001b[0m \u001b[0mprint\u001b[0m\u001b[0;34m(\u001b[0m\u001b[0;34m'----------------------------------------------------'\u001b[0m\u001b[0;34m)\u001b[0m\u001b[0;34m\u001b[0m\u001b[0;34m\u001b[0m\u001b[0m\n\u001b[0;32m----> 7\u001b[0;31m \u001b[0my_pred\u001b[0m \u001b[0;34m=\u001b[0m \u001b[0mclf\u001b[0m\u001b[0;34m.\u001b[0m\u001b[0mpredict\u001b[0m\u001b[0;34m(\u001b[0m\u001b[0mX_test\u001b[0m\u001b[0;34m)\u001b[0m\u001b[0;34m\u001b[0m\u001b[0;34m\u001b[0m\u001b[0m\n\u001b[0m\u001b[1;32m      8\u001b[0m \u001b[0;31m#----------------------------------------------------\u001b[0m\u001b[0;34m\u001b[0m\u001b[0;34m\u001b[0m\u001b[0;34m\u001b[0m\u001b[0m\n\u001b[1;32m      9\u001b[0m \u001b[0;31m#Calculating Confusion Matrix\u001b[0m\u001b[0;34m\u001b[0m\u001b[0;34m\u001b[0m\u001b[0;34m\u001b[0m\u001b[0m\n",
            "\u001b[0;32m/usr/local/lib/python3.7/dist-packages/sklearn/naive_bayes.py\u001b[0m in \u001b[0;36mpredict\u001b[0;34m(self, X)\u001b[0m\n\u001b[1;32m     75\u001b[0m         \u001b[0mcheck_is_fitted\u001b[0m\u001b[0;34m(\u001b[0m\u001b[0mself\u001b[0m\u001b[0;34m)\u001b[0m\u001b[0;34m\u001b[0m\u001b[0;34m\u001b[0m\u001b[0m\n\u001b[1;32m     76\u001b[0m         \u001b[0mX\u001b[0m \u001b[0;34m=\u001b[0m \u001b[0mself\u001b[0m\u001b[0;34m.\u001b[0m\u001b[0m_check_X\u001b[0m\u001b[0;34m(\u001b[0m\u001b[0mX\u001b[0m\u001b[0;34m)\u001b[0m\u001b[0;34m\u001b[0m\u001b[0;34m\u001b[0m\u001b[0m\n\u001b[0;32m---> 77\u001b[0;31m         \u001b[0mjll\u001b[0m \u001b[0;34m=\u001b[0m \u001b[0mself\u001b[0m\u001b[0;34m.\u001b[0m\u001b[0m_joint_log_likelihood\u001b[0m\u001b[0;34m(\u001b[0m\u001b[0mX\u001b[0m\u001b[0;34m)\u001b[0m\u001b[0;34m\u001b[0m\u001b[0;34m\u001b[0m\u001b[0m\n\u001b[0m\u001b[1;32m     78\u001b[0m         \u001b[0;32mreturn\u001b[0m \u001b[0mself\u001b[0m\u001b[0;34m.\u001b[0m\u001b[0mclasses_\u001b[0m\u001b[0;34m[\u001b[0m\u001b[0mnp\u001b[0m\u001b[0;34m.\u001b[0m\u001b[0margmax\u001b[0m\u001b[0;34m(\u001b[0m\u001b[0mjll\u001b[0m\u001b[0;34m,\u001b[0m \u001b[0maxis\u001b[0m\u001b[0;34m=\u001b[0m\u001b[0;36m1\u001b[0m\u001b[0;34m)\u001b[0m\u001b[0;34m]\u001b[0m\u001b[0;34m\u001b[0m\u001b[0;34m\u001b[0m\u001b[0m\n\u001b[1;32m     79\u001b[0m \u001b[0;34m\u001b[0m\u001b[0m\n",
            "\u001b[0;32m/usr/local/lib/python3.7/dist-packages/sklearn/naive_bayes.py\u001b[0m in \u001b[0;36m_joint_log_likelihood\u001b[0;34m(self, X)\u001b[0m\n\u001b[1;32m   1217\u001b[0m         \u001b[0;32mfor\u001b[0m \u001b[0mi\u001b[0m \u001b[0;32min\u001b[0m \u001b[0mrange\u001b[0m\u001b[0;34m(\u001b[0m\u001b[0mself\u001b[0m\u001b[0;34m.\u001b[0m\u001b[0mn_features_\u001b[0m\u001b[0;34m)\u001b[0m\u001b[0;34m:\u001b[0m\u001b[0;34m\u001b[0m\u001b[0;34m\u001b[0m\u001b[0m\n\u001b[1;32m   1218\u001b[0m             \u001b[0mindices\u001b[0m \u001b[0;34m=\u001b[0m \u001b[0mX\u001b[0m\u001b[0;34m[\u001b[0m\u001b[0;34m:\u001b[0m\u001b[0;34m,\u001b[0m \u001b[0mi\u001b[0m\u001b[0;34m]\u001b[0m\u001b[0;34m\u001b[0m\u001b[0;34m\u001b[0m\u001b[0m\n\u001b[0;32m-> 1219\u001b[0;31m             \u001b[0mjll\u001b[0m \u001b[0;34m+=\u001b[0m \u001b[0mself\u001b[0m\u001b[0;34m.\u001b[0m\u001b[0mfeature_log_prob_\u001b[0m\u001b[0;34m[\u001b[0m\u001b[0mi\u001b[0m\u001b[0;34m]\u001b[0m\u001b[0;34m[\u001b[0m\u001b[0;34m:\u001b[0m\u001b[0;34m,\u001b[0m \u001b[0mindices\u001b[0m\u001b[0;34m]\u001b[0m\u001b[0;34m.\u001b[0m\u001b[0mT\u001b[0m\u001b[0;34m\u001b[0m\u001b[0;34m\u001b[0m\u001b[0m\n\u001b[0m\u001b[1;32m   1220\u001b[0m         \u001b[0mtotal_ll\u001b[0m \u001b[0;34m=\u001b[0m \u001b[0mjll\u001b[0m \u001b[0;34m+\u001b[0m \u001b[0mself\u001b[0m\u001b[0;34m.\u001b[0m\u001b[0mclass_log_prior_\u001b[0m\u001b[0;34m\u001b[0m\u001b[0;34m\u001b[0m\u001b[0m\n\u001b[1;32m   1221\u001b[0m         \u001b[0;32mreturn\u001b[0m \u001b[0mtotal_ll\u001b[0m\u001b[0;34m\u001b[0m\u001b[0;34m\u001b[0m\u001b[0m\n",
            "\u001b[0;31mIndexError\u001b[0m: index 1 is out of bounds for axis 1 with size 1"
          ]
        }
      ]
    },
    {
      "cell_type": "markdown",
      "metadata": {
        "id": "SMBbtFSlLejM"
      },
      "source": [
        "## Linear Discriminant Analysis"
      ]
    },
    {
      "cell_type": "code",
      "metadata": {
        "id": "TvAH5_XPImD-"
      },
      "source": [
        "from sklearn.discriminant_analysis import LinearDiscriminantAnalysis\n",
        "LDAModel = LinearDiscriminantAnalysis(n_components=5,solver='svd',tol=0.0001)\n",
        "LDAModel.fit(X_train, y_train)\n",
        "\n",
        "#Calculating Details\n",
        "print('LDAModel Train Score is : ' , LDAModel.score(X_train, y_train))\n",
        "print('LDAModel Test Score is : ' , LDAModel.score(X_test, y_test))\n",
        "print('----------------------------------------------------')\n",
        "\n",
        "#Calculating Prediction\n",
        "y_pred = LDAModel.predict(X_test)\n",
        "y_pred_prob = LDAModel.predict_proba(X_test)\n",
        "#---------------------------------------------------\n",
        "#Calculating Confusion Matrix\n",
        "CM = confusion_matrix(y_test, y_pred)\n",
        "print('Confusion Matrix is : \\n', CM)\n"
      ],
      "execution_count": null,
      "outputs": []
    },
    {
      "cell_type": "markdown",
      "metadata": {
        "id": "qNO8a11xMIMr"
      },
      "source": [
        "## Quadratic Discriminant Analysis"
      ]
    },
    {
      "cell_type": "code",
      "metadata": {
        "id": "8JEX5hMVMNfj"
      },
      "source": [
        "from sklearn.discriminant_analysis import QuadraticDiscriminantAnalysis\n",
        "QDAModel = QuadraticDiscriminantAnalysis(tol=0.0001)\n",
        "QDAModel.fit(X_train, y_train)\n",
        "\n",
        "#Calculating Prediction\n",
        "y_pred = QDAModel.predict(X_test)\n",
        "y_pred_prob = QDAModel.predict_proba(X_test)\n",
        "\n",
        "#Calculating Details\n",
        "print('QDAModel Train Score is : ' , QDAModel.score(X_train, y_train))\n",
        "print('QDAModel Test Score is : ' , QDAModel.score(X_test, y_test))\n",
        "\n",
        "#----------------------------------------------------\n",
        "#Calculating Confusion Matrix\n",
        "CM = confusion_matrix(y_test, y_pred)\n",
        "print('Confusion Matrix is : \\n', CM)"
      ],
      "execution_count": null,
      "outputs": []
    },
    {
      "cell_type": "markdown",
      "metadata": {
        "id": "e55_pW9gXaB4"
      },
      "source": [
        "## Decision Tree"
      ]
    },
    {
      "cell_type": "code",
      "metadata": {
        "id": "202_Mjd5XcOP"
      },
      "source": [
        "from sklearn.tree import DecisionTreeClassifier\n",
        "DecisionTreeClassifierModel = DecisionTreeClassifier(criterion='gini',max_depth=4,random_state=33) #criterion can be entropy\n",
        "DecisionTreeClassifierModel.fit(X_train, y_train)\n",
        "\n",
        "#Calculating Details\n",
        "print('DecisionTreeClassifierModel Train Score is : ' , DecisionTreeClassifierModel.score(X_train, y_train))\n",
        "print('DecisionTreeClassifierModel Test Score is : ' , DecisionTreeClassifierModel.score(X_test, y_test))\n",
        "\n",
        "#Calculating Prediction\n",
        "y_pred = DecisionTreeClassifierModel.predict(X_test)\n",
        "y_pred_prob = DecisionTreeClassifierModel.predict_proba(X_test)\n",
        "\n",
        "#----------------------------------------------------\n",
        "#Calculating Confusion Matrix\n",
        "CM = confusion_matrix(y_test, y_pred)\n",
        "print('Confusion Matrix is : \\n', CM)\n"
      ],
      "execution_count": null,
      "outputs": []
    },
    {
      "cell_type": "markdown",
      "metadata": {
        "id": "VmxWOR3oX1vZ"
      },
      "source": [
        "## Random Forest"
      ]
    },
    {
      "cell_type": "code",
      "metadata": {
        "id": "DZRBnWO9X42Y"
      },
      "source": [
        "from sklearn.ensemble import RandomForestClassifier\n",
        "RandomForestClassifierModel = RandomForestClassifier(criterion = 'entropy',n_estimators=100,max_depth=3,random_state=33) #criterion can be also : entropy \n",
        "RandomForestClassifierModel.fit(X_train, y_train)\n",
        "\n",
        "#Calculating Details\n",
        "print('RandomForestClassifierModel Train Score is : ' , RandomForestClassifierModel.score(X_train, y_train))\n",
        "print('RandomForestClassifierModel Test Score is : ' , RandomForestClassifierModel.score(X_test, y_test))\n",
        "\n",
        "#Calculating Prediction\n",
        "y_pred = RandomForestClassifierModel.predict(X_test)\n",
        "y_pred_prob = RandomForestClassifierModel.predict_proba(X_test)\n",
        "\n",
        "#----------------------------------------------------\n",
        "#Calculating Confusion Matrix\n",
        "CM = confusion_matrix(y_test, y_pred)\n",
        "print('Confusion Matrix is : \\n', CM)\n"
      ],
      "execution_count": null,
      "outputs": []
    }
  ]
}